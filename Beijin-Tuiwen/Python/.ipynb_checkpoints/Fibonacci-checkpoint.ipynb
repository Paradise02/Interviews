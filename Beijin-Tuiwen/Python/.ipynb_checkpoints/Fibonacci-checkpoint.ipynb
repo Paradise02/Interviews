{
 "cells": [
  {
   "cell_type": "code",
   "execution_count": 1,
   "metadata": {},
   "outputs": [],
   "source": [
    "import numpy as np"
   ]
  },
  {
   "cell_type": "code",
   "execution_count": 2,
   "metadata": {},
   "outputs": [],
   "source": [
    "def method1(n):\n",
    "    # recursion\n",
    "    if n == 0 or n == 1 or n == 2:\n",
    "        return 0\n",
    "    else:\n",
    "        return method1(n-1) + method1(n-2) + method1(n-3) + 1"
   ]
  },
  {
   "cell_type": "code",
   "execution_count": 3,
   "metadata": {},
   "outputs": [
    {
     "data": {
      "text/plain": [
       "[0, 0, 0, 1, 2, 4, 8, 15, 28, 52]"
      ]
     },
     "execution_count": 3,
     "metadata": {},
     "output_type": "execute_result"
    }
   ],
   "source": [
    "[method1(i) for i in range(10)]"
   ]
  },
  {
   "cell_type": "code",
   "execution_count": 4,
   "metadata": {},
   "outputs": [],
   "source": [
    "def method2(n):\n",
    "    # DP O(n) space\n",
    "    dp = [0, 0, 0]\n",
    "    if n <= 2:\n",
    "        return dp[n]\n",
    "    else:\n",
    "        for i in range(3, n+1):\n",
    "            dp.append(dp[i-1] + dp[i-2] + dp[i-3] + 1)\n",
    "    return dp[-1]"
   ]
  },
  {
   "cell_type": "code",
   "execution_count": 5,
   "metadata": {},
   "outputs": [
    {
     "data": {
      "text/plain": [
       "[0, 0, 0, 1, 2, 4, 8, 15, 28, 52]"
      ]
     },
     "execution_count": 5,
     "metadata": {},
     "output_type": "execute_result"
    }
   ],
   "source": [
    "[method2(i) for i in range(10)]"
   ]
  },
  {
   "cell_type": "code",
   "execution_count": 6,
   "metadata": {},
   "outputs": [],
   "source": [
    "def method3(n):\n",
    "    # DP O(1) space\n",
    "    a, b, c = 0, 0, 0\n",
    "    for i in range(n - 2):\n",
    "        a, b, c = a+b+c+1, a, b\n",
    "    return a"
   ]
  },
  {
   "cell_type": "code",
   "execution_count": 7,
   "metadata": {},
   "outputs": [
    {
     "data": {
      "text/plain": [
       "[0, 0, 0, 1, 2, 4, 8, 15, 28, 52]"
      ]
     },
     "execution_count": 7,
     "metadata": {},
     "output_type": "execute_result"
    }
   ],
   "source": [
    "[method3(i) for i in range(10)]"
   ]
  },
  {
   "cell_type": "raw",
   "metadata": {},
   "source": [
    "[[1, 1, 1, 1]   [[Fn-1]      [[Fn]\n",
    "[1, 0, 0, 0]     [Fn-2]       [Fn-1]\n",
    "[0, 1, 0, 0]     [Fn-3]       [Fn-2]\n",
    "[0, 0, 0, 1] *   [1]]     =   [1]]"
   ]
  },
  {
   "cell_type": "code",
   "execution_count": 8,
   "metadata": {},
   "outputs": [],
   "source": [
    "def method4(n):\n",
    "    # Matrix\n",
    "    if n <= 2:\n",
    "        return 0\n",
    "    A = np.asarray([[1, 1, 1, 1],\n",
    "                  [1, 0, 0, 0],\n",
    "                  [0, 1, 0, 0],\n",
    "                  [0, 0, 0, 1]])\n",
    "    start = np.asarray([[0],\n",
    "                       [0],\n",
    "                       [0],\n",
    "                       [1]])\n",
    "    base = np.eye(4)\n",
    "    for i in range(n - 2):\n",
    "        base = base @ A\n",
    "    \n",
    "    return (base @ start)[0][0]"
   ]
  },
  {
   "cell_type": "code",
   "execution_count": 9,
   "metadata": {},
   "outputs": [
    {
     "data": {
      "text/plain": [
       "[0, 0, 0, 1.0, 2.0, 4.0, 8.0, 15.0, 28.0, 52.0]"
      ]
     },
     "execution_count": 9,
     "metadata": {},
     "output_type": "execute_result"
    }
   ],
   "source": [
    "[method4(i) for i in range(10)]"
   ]
  },
  {
   "cell_type": "code",
   "execution_count": 10,
   "metadata": {},
   "outputs": [],
   "source": [
    "def method5(n):\n",
    "    # tricks on Matrix Product\n",
    "    if n <= 2:\n",
    "        return 0\n",
    "    A = np.asarray([[1, 1, 1, 1],\n",
    "                  [1, 0, 0, 0],\n",
    "                  [0, 1, 0, 0],\n",
    "                  [0, 0, 0, 1]])\n",
    "    start = np.asarray([[0],\n",
    "                       [0],\n",
    "                       [0],\n",
    "                       [1]])\n",
    "    def power(mat, m):\n",
    "        if m == 1:\n",
    "            return mat\n",
    "        elif m == 0:\n",
    "            return np.eye(4)\n",
    "        else:\n",
    "            if m % 2 == 0:\n",
    "                half = power(mat, m // 2)\n",
    "                return half @ half\n",
    "            else:\n",
    "                half = power(mat, m // 2)\n",
    "                return half @ half @ mat\n",
    "    return (power(A, n - 2) @ start)[0][0]"
   ]
  },
  {
   "cell_type": "code",
   "execution_count": 11,
   "metadata": {},
   "outputs": [
    {
     "data": {
      "text/plain": [
       "[0, 0, 0, 1, 2, 4, 8, 15, 28, 52]"
      ]
     },
     "execution_count": 11,
     "metadata": {},
     "output_type": "execute_result"
    }
   ],
   "source": [
    "[method5(i) for i in range(10)]"
   ]
  },
  {
   "cell_type": "code",
   "execution_count": 12,
   "metadata": {},
   "outputs": [],
   "source": [
    "transfer_mat = np.asarray([[1, 1, 1, 1],\n",
    "                  [1, 0, 0, 0],\n",
    "                  [0, 1, 0, 0],\n",
    "                  [0, 0, 0, 1]])\n",
    "w, v = np.linalg.eig(transfer_mat)"
   ]
  },
  {
   "cell_type": "code",
   "execution_count": 13,
   "metadata": {},
   "outputs": [
    {
     "data": {
      "text/plain": [
       "array([[ 1.,  1.,  1.,  1.],\n",
       "       [ 1.,  0.,  0.,  0.],\n",
       "       [-0.,  1., -0., -0.],\n",
       "       [ 0.,  0.,  0.,  1.]])"
      ]
     },
     "execution_count": 13,
     "metadata": {},
     "output_type": "execute_result"
    }
   ],
   "source": [
    "np.rint(np.real(v @ np.diag(w) @ np.linalg.inv(v)))"
   ]
  },
  {
   "cell_type": "code",
   "execution_count": 14,
   "metadata": {},
   "outputs": [],
   "source": [
    "def method6(n):\n",
    "    # matrix eigen value / vector decompose\n",
    "    if n <= 2:\n",
    "        return 0\n",
    "    if n == 3:\n",
    "        return 1\n",
    "    start = np.asarray([[0],\n",
    "                       [0],\n",
    "                       [0],\n",
    "                       [1]])\n",
    "    S = v\n",
    "    S_inv = np.linalg.inv(v)\n",
    "    decmp = np.diag(w)\n",
    "    return np.rint(np.real((S @ decmp ** (n-2) @ S_inv @ start)))[0][0]"
   ]
  },
  {
   "cell_type": "code",
   "execution_count": 15,
   "metadata": {},
   "outputs": [
    {
     "data": {
      "text/plain": [
       "[0, 0, 0, 1, 2.0, 4.0, 8.0, 15.0, 28.0, 52.0]"
      ]
     },
     "execution_count": 15,
     "metadata": {},
     "output_type": "execute_result"
    }
   ],
   "source": [
    "[method6(i) for i in range(10)]"
   ]
  },
  {
   "cell_type": "code",
   "execution_count": 16,
   "metadata": {},
   "outputs": [
    {
     "name": "stdout",
     "output_type": "stream",
     "text": [
      "Wall time: 18.9 ms\n"
     ]
    },
    {
     "data": {
      "text/plain": [
       "42762"
      ]
     },
     "execution_count": 16,
     "metadata": {},
     "output_type": "execute_result"
    }
   ],
   "source": [
    "%%time\n",
    "method1(20)"
   ]
  },
  {
   "cell_type": "code",
   "execution_count": 17,
   "metadata": {},
   "outputs": [
    {
     "name": "stdout",
     "output_type": "stream",
     "text": [
      "350 µs ± 19.4 µs per loop (mean ± std. dev. of 7 runs, 1000 loops each)\n"
     ]
    }
   ],
   "source": [
    "%%timeit\n",
    "method2(1000)"
   ]
  },
  {
   "cell_type": "code",
   "execution_count": 18,
   "metadata": {},
   "outputs": [
    {
     "name": "stdout",
     "output_type": "stream",
     "text": [
      "135 µs ± 2.31 µs per loop (mean ± std. dev. of 7 runs, 10000 loops each)\n"
     ]
    }
   ],
   "source": [
    "%%timeit\n",
    "method3(1000)"
   ]
  },
  {
   "cell_type": "code",
   "execution_count": 19,
   "metadata": {},
   "outputs": [
    {
     "name": "stdout",
     "output_type": "stream",
     "text": [
      "993 µs ± 21.2 µs per loop (mean ± std. dev. of 7 runs, 1000 loops each)\n"
     ]
    }
   ],
   "source": [
    "%%timeit\n",
    "method4(1000)"
   ]
  },
  {
   "cell_type": "code",
   "execution_count": 20,
   "metadata": {},
   "outputs": [
    {
     "name": "stdout",
     "output_type": "stream",
     "text": [
      "28.9 µs ± 1.62 µs per loop (mean ± std. dev. of 7 runs, 10000 loops each)\n"
     ]
    }
   ],
   "source": [
    "%%timeit\n",
    "method5(1000)"
   ]
  },
  {
   "cell_type": "code",
   "execution_count": 21,
   "metadata": {},
   "outputs": [
    {
     "name": "stdout",
     "output_type": "stream",
     "text": [
      "66.5 µs ± 3.43 µs per loop (mean ± std. dev. of 7 runs, 10000 loops each)\n"
     ]
    }
   ],
   "source": [
    "%%timeit\n",
    "method6(1000)"
   ]
  },
  {
   "cell_type": "code",
   "execution_count": null,
   "metadata": {},
   "outputs": [],
   "source": []
  }
 ],
 "metadata": {
  "kernelspec": {
   "display_name": "Python [default]",
   "language": "python",
   "name": "python3"
  },
  "language_info": {
   "codemirror_mode": {
    "name": "ipython",
    "version": 3
   },
   "file_extension": ".py",
   "mimetype": "text/x-python",
   "name": "python",
   "nbconvert_exporter": "python",
   "pygments_lexer": "ipython3",
   "version": "3.5.5"
  }
 },
 "nbformat": 4,
 "nbformat_minor": 2
}
