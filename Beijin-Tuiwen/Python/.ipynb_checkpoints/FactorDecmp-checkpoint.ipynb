{
 "cells": [
  {
   "cell_type": "markdown",
   "metadata": {},
   "source": [
    "$\\frac{1}{x} + \\frac{1}{y} = \\frac{1}{n}$\n",
    "\n",
    "$n*x + n*y = xy$\n",
    "\n",
    "$n^{2} - n*x - n*y + x*y = n^{2}$\n",
    "\n",
    "### necessary and sufficient condition <br>\n",
    "$(x-n)(y-n) = n^{2}$\n",
    "\n",
    "### given postive factor of $n^{2}$ $p$, $x = n+p$, $y = n+\\frac{n^{2}}{p}$"
   ]
  },
  {
   "cell_type": "code",
   "execution_count": 8,
   "metadata": {},
   "outputs": [],
   "source": [
    "def no_of_sol(n):\n",
    "    square = n ** 2\n",
    "    no_of_fac = 1\n",
    "    for i in range(2, n+1):\n",
    "        no_pow = 0\n",
    "        while square % i == 0:\n",
    "            square = square / i\n",
    "            no_pow += 1\n",
    "        no_of_fac *= no_pow + 1\n",
    "    return (no_of_fac + 1) / 2\n",
    "        "
   ]
  },
  {
   "cell_type": "code",
   "execution_count": 9,
   "metadata": {},
   "outputs": [
    {
     "data": {
      "text/plain": [
       "5.0"
      ]
     },
     "execution_count": 9,
     "metadata": {},
     "output_type": "execute_result"
    }
   ],
   "source": [
    "no_of_sol(6)"
   ]
  },
  {
   "cell_type": "code",
   "execution_count": 10,
   "metadata": {},
   "outputs": [
    {
     "data": {
      "text/plain": [
       "1.0"
      ]
     },
     "execution_count": 10,
     "metadata": {},
     "output_type": "execute_result"
    }
   ],
   "source": [
    "no_of_sol(1)"
   ]
  },
  {
   "cell_type": "code",
   "execution_count": 11,
   "metadata": {},
   "outputs": [
    {
     "data": {
      "text/plain": [
       "2.0"
      ]
     },
     "execution_count": 11,
     "metadata": {},
     "output_type": "execute_result"
    }
   ],
   "source": [
    "no_of_sol(2)"
   ]
  },
  {
   "cell_type": "code",
   "execution_count": 12,
   "metadata": {},
   "outputs": [
    {
     "data": {
      "text/plain": [
       "3.0"
      ]
     },
     "execution_count": 12,
     "metadata": {},
     "output_type": "execute_result"
    }
   ],
   "source": [
    "no_of_sol(4)"
   ]
  },
  {
   "cell_type": "markdown",
   "metadata": {},
   "source": [
    "### No. Solution = 100\n",
    "\n",
    "### No. Factors of $n^{2}$ = 199\n",
    "\n",
    "#### Any number $m$ which can be decomposed into format like $p_{1}^{n_1} * p_{2}^{n_2} * ... * p_{k}^{n_k} = m$ ($p_i$ is the i-th prime factor, $n_i$ is the power corresponding to $p_i$) s.t. $\\prod_{i}(n_i) = 199$"
   ]
  },
  {
   "cell_type": "code",
   "execution_count": 19,
   "metadata": {},
   "outputs": [
    {
     "data": {
      "text/plain": [
       "10.0"
      ]
     },
     "execution_count": 19,
     "metadata": {},
     "output_type": "execute_result"
    }
   ],
   "source": [
    "no_of_sol(2**9)"
   ]
  },
  {
   "cell_type": "markdown",
   "metadata": {},
   "source": [
    "### $n = p^{199}$, number of solution is 100\n",
    "\n",
    "### $n = p^{2 * 10^{3} - 1}$, number of solution is 1000\n",
    "\n",
    "### $n = p^{2 * 10^{6} - 1}$, number of solution is 1,000,000\n",
    "\n",
    "#### (p is a prime)"
   ]
  },
  {
   "cell_type": "code",
   "execution_count": null,
   "metadata": {},
   "outputs": [],
   "source": []
  }
 ],
 "metadata": {
  "kernelspec": {
   "display_name": "Python [default]",
   "language": "python",
   "name": "python3"
  },
  "language_info": {
   "codemirror_mode": {
    "name": "ipython",
    "version": 3
   },
   "file_extension": ".py",
   "mimetype": "text/x-python",
   "name": "python",
   "nbconvert_exporter": "python",
   "pygments_lexer": "ipython3",
   "version": "3.5.5"
  }
 },
 "nbformat": 4,
 "nbformat_minor": 2
}
